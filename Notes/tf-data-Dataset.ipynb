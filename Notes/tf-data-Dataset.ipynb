{
 "cells": [
  {
   "cell_type": "markdown",
   "id": "documented-debate",
   "metadata": {},
   "source": [
    "# TensorFlow Datasetのテスト\n",
    "\n",
    "[tf.data.Dataset のAPIドキュメント (tensorflow.org/api_docs)](https://www.tensorflow.org/api_docs/python/tf/data/Dataset)"
   ]
  },
  {
   "cell_type": "code",
   "execution_count": 1,
   "id": "precise-smell",
   "metadata": {},
   "outputs": [],
   "source": [
    "import numpy as np\n",
    "import tensorflow as tf"
   ]
  },
  {
   "cell_type": "markdown",
   "id": "exposed-packaging",
   "metadata": {},
   "source": [
    "## 共通的に利用する関数定義\n",
    "\n",
    "0..9までの連番を格納したDatasetを作成する`make_ds`と、Datasetの中身を表示する`print_ds`を定義。  \n",
    "1回の`print_ds`呼び出しが、機械学習の1エポックのデータ取り出しに相当する。  "
   ]
  },
  {
   "cell_type": "code",
   "execution_count": 2,
   "id": "latin-startup",
   "metadata": {},
   "outputs": [],
   "source": [
    "def make_ds():\n",
    "    return tf.data.Dataset.range(10)\n",
    "\n",
    "\n",
    "def print_ds(*args):\n",
    "    line = \"\"\n",
    "    for ds in args:\n",
    "        data = list(ds.as_numpy_iterator())\n",
    "        line += str(data)\n",
    "    print(line)"
   ]
  },
  {
   "cell_type": "code",
   "execution_count": 3,
   "id": "peaceful-large",
   "metadata": {},
   "outputs": [
    {
     "name": "stdout",
     "output_type": "stream",
     "text": [
      "[0, 1, 2, 3, 4, 5, 6, 7, 8, 9]\n"
     ]
    }
   ],
   "source": [
    "ds = make_ds()\n",
    "print_ds(ds)"
   ]
  },
  {
   "cell_type": "markdown",
   "id": "unnecessary-newton",
   "metadata": {},
   "source": [
    "## Datasetに対する操作と結果"
   ]
  },
  {
   "cell_type": "code",
   "execution_count": 4,
   "id": "mysterious-blame",
   "metadata": {},
   "outputs": [],
   "source": [
    "LOOPS = 12  # Datasetから値を取り出す回数（エポック数のイメージ）"
   ]
  },
  {
   "cell_type": "markdown",
   "id": "ordinary-retention",
   "metadata": {},
   "source": [
    "### shuffle操作"
   ]
  },
  {
   "cell_type": "code",
   "execution_count": 5,
   "id": "mobile-pattern",
   "metadata": {},
   "outputs": [
    {
     "name": "stdout",
     "output_type": "stream",
     "text": [
      "[0, 1, 2, 3, 4, 5, 6, 7, 8, 9]\n",
      "[0, 1, 2, 3, 4, 5, 6, 7, 8, 9]\n",
      "[0, 1, 2, 3, 4, 5, 6, 7, 8, 9]\n",
      "[0, 1, 2, 3, 4, 5, 6, 7, 8, 9]\n",
      "[0, 1, 2, 3, 4, 5, 6, 7, 8, 9]\n",
      "[0, 1, 2, 3, 4, 5, 6, 7, 8, 9]\n",
      "[0, 1, 2, 3, 4, 5, 6, 7, 8, 9]\n",
      "[0, 1, 2, 3, 4, 5, 6, 7, 8, 9]\n",
      "[0, 1, 2, 3, 4, 5, 6, 7, 8, 9]\n",
      "[0, 1, 2, 3, 4, 5, 6, 7, 8, 9]\n",
      "[0, 1, 2, 3, 4, 5, 6, 7, 8, 9]\n",
      "[0, 1, 2, 3, 4, 5, 6, 7, 8, 9]\n"
     ]
    }
   ],
   "source": [
    "# 単純なDatasetの場合、何度取り出しても同じ値になる。\n",
    "ds = make_ds()\n",
    "for i in range(LOOPS):\n",
    "    print_ds(ds)"
   ]
  },
  {
   "cell_type": "code",
   "execution_count": 6,
   "id": "unavailable-expression",
   "metadata": {},
   "outputs": [
    {
     "name": "stdout",
     "output_type": "stream",
     "text": [
      "[2, 7, 3, 1, 6, 5, 4, 8, 0, 9]\n",
      "[7, 2, 9, 4, 6, 3, 5, 8, 1, 0]\n",
      "[0, 2, 3, 7, 1, 9, 8, 4, 5, 6]\n",
      "[8, 1, 2, 9, 7, 6, 4, 3, 0, 5]\n",
      "[4, 2, 9, 6, 5, 1, 0, 8, 3, 7]\n",
      "[7, 5, 8, 4, 6, 0, 3, 9, 2, 1]\n",
      "[5, 3, 2, 4, 8, 1, 6, 7, 9, 0]\n",
      "[6, 9, 4, 1, 8, 0, 2, 5, 7, 3]\n",
      "[3, 1, 9, 0, 6, 5, 7, 8, 2, 4]\n",
      "[7, 4, 8, 5, 6, 0, 9, 1, 3, 2]\n",
      "[8, 0, 9, 7, 3, 4, 5, 6, 1, 2]\n",
      "[6, 0, 8, 5, 1, 7, 9, 4, 2, 3]\n"
     ]
    }
   ],
   "source": [
    "# shuffleすると、取り出す度にデータがシャッフルされる。\n",
    "# shuffleの引数にはデータ数を指定すると、データ全体がほぼ均一にシャッフルされる。\n",
    "ds = make_ds().shuffle(10)\n",
    "for i in range(LOOPS):\n",
    "    print_ds(ds)"
   ]
  },
  {
   "cell_type": "code",
   "execution_count": 7,
   "id": "retired-respondent",
   "metadata": {},
   "outputs": [
    {
     "name": "stdout",
     "output_type": "stream",
     "text": [
      "[2, 3, 5, 9, 7, 4, 0, 6, 1, 8]\n",
      "[2, 3, 5, 9, 7, 4, 0, 6, 1, 8]\n",
      "[2, 3, 5, 9, 7, 4, 0, 6, 1, 8]\n",
      "[2, 3, 5, 9, 7, 4, 0, 6, 1, 8]\n",
      "[2, 3, 5, 9, 7, 4, 0, 6, 1, 8]\n",
      "[2, 3, 5, 9, 7, 4, 0, 6, 1, 8]\n",
      "[2, 3, 5, 9, 7, 4, 0, 6, 1, 8]\n",
      "[2, 3, 5, 9, 7, 4, 0, 6, 1, 8]\n",
      "[2, 3, 5, 9, 7, 4, 0, 6, 1, 8]\n",
      "[2, 3, 5, 9, 7, 4, 0, 6, 1, 8]\n",
      "[2, 3, 5, 9, 7, 4, 0, 6, 1, 8]\n",
      "[2, 3, 5, 9, 7, 4, 0, 6, 1, 8]\n"
     ]
    }
   ],
   "source": [
    "# shuffleに、reshuffle_each_iteration=Falseを設定すると、2回目以降は同じデータの並び順になる。\n",
    "# つまり、最初の1回だけシャッフルされるような状態。\n",
    "# デフォルトはreshuffle_each_iteration=Trueとなっているため、取り出す度にシャッフルされる。\n",
    "ds = make_ds().shuffle(10, reshuffle_each_iteration=False)\n",
    "for i in range(LOOPS):\n",
    "    print_ds(ds)"
   ]
  },
  {
   "cell_type": "markdown",
   "id": "married-navigation",
   "metadata": {},
   "source": [
    "### shuffleとcache"
   ]
  },
  {
   "cell_type": "code",
   "execution_count": 8,
   "id": "palestinian-translator",
   "metadata": {},
   "outputs": [
    {
     "name": "stdout",
     "output_type": "stream",
     "text": [
      "[8, 2, 9, 5, 4, 1, 7, 6, 3, 0]\n",
      "[8, 2, 9, 5, 4, 1, 7, 6, 3, 0]\n",
      "[8, 2, 9, 5, 4, 1, 7, 6, 3, 0]\n",
      "[8, 2, 9, 5, 4, 1, 7, 6, 3, 0]\n",
      "[8, 2, 9, 5, 4, 1, 7, 6, 3, 0]\n",
      "[8, 2, 9, 5, 4, 1, 7, 6, 3, 0]\n",
      "[8, 2, 9, 5, 4, 1, 7, 6, 3, 0]\n",
      "[8, 2, 9, 5, 4, 1, 7, 6, 3, 0]\n",
      "[8, 2, 9, 5, 4, 1, 7, 6, 3, 0]\n",
      "[8, 2, 9, 5, 4, 1, 7, 6, 3, 0]\n",
      "[8, 2, 9, 5, 4, 1, 7, 6, 3, 0]\n",
      "[8, 2, 9, 5, 4, 1, 7, 6, 3, 0]\n"
     ]
    }
   ],
   "source": [
    "# cacheを指定するとメモリ上にデータをキャッシュできるため、2回目以降のデータ取得でパフォーマンス向上が期待できる。\n",
    "# しかし、shuffle -> cache の順序で適用すると、2回目以降のシャッフルが反映されない。\n",
    "# なお、2回目以降のシャッフルを抑止する目的では使用しない方が良い。\n",
    "# 2回目以降のシャッフルを抑止するのであれば、shuffleでreshuffle_each_iteration=Falseを指定する。\n",
    "ds = make_ds().shuffle(10).cache()  # この順番は非推奨\n",
    "for i in range(LOOPS):\n",
    "    print_ds(ds)"
   ]
  },
  {
   "cell_type": "code",
   "execution_count": 9,
   "id": "corresponding-despite",
   "metadata": {},
   "outputs": [
    {
     "name": "stdout",
     "output_type": "stream",
     "text": [
      "[1, 7, 9, 6, 4, 0, 2, 5, 3, 8]\n",
      "[9, 6, 2, 3, 1, 5, 7, 4, 8, 0]\n",
      "[6, 1, 2, 7, 9, 4, 5, 8, 0, 3]\n",
      "[7, 2, 8, 9, 6, 5, 1, 4, 3, 0]\n",
      "[5, 4, 7, 8, 9, 3, 0, 6, 2, 1]\n",
      "[7, 6, 0, 9, 8, 2, 4, 3, 1, 5]\n",
      "[8, 6, 7, 1, 4, 2, 9, 5, 3, 0]\n",
      "[5, 9, 2, 1, 3, 8, 6, 0, 7, 4]\n",
      "[8, 5, 7, 6, 3, 1, 4, 9, 0, 2]\n",
      "[2, 3, 7, 5, 1, 9, 6, 8, 0, 4]\n",
      "[5, 7, 8, 6, 1, 4, 2, 9, 3, 0]\n",
      "[4, 2, 5, 8, 3, 7, 9, 0, 6, 1]\n"
     ]
    }
   ],
   "source": [
    "# cache -> shuffle という順序にすれば、正しくシャッフルが機能する。\n",
    "# 2回目以降の取り出しでも、shuffleが正しく機能している。\n",
    "ds = make_ds().cache().shuffle(10)  # 正しい順序\n",
    "for i in range(LOOPS):\n",
    "    print_ds(ds)"
   ]
  },
  {
   "cell_type": "markdown",
   "id": "divine-vegetable",
   "metadata": {},
   "source": [
    "### shuffleとbatch"
   ]
  },
  {
   "cell_type": "code",
   "execution_count": 10,
   "id": "pressing-parallel",
   "metadata": {},
   "outputs": [
    {
     "name": "stdout",
     "output_type": "stream",
     "text": [
      "[array([0, 1, 2, 3], dtype=int64), array([4, 5, 6, 7], dtype=int64), array([8, 9], dtype=int64)]\n",
      "[array([0, 1, 2, 3], dtype=int64), array([4, 5, 6, 7], dtype=int64), array([8, 9], dtype=int64)]\n",
      "[array([0, 1, 2, 3], dtype=int64), array([4, 5, 6, 7], dtype=int64), array([8, 9], dtype=int64)]\n",
      "[array([0, 1, 2, 3], dtype=int64), array([4, 5, 6, 7], dtype=int64), array([8, 9], dtype=int64)]\n",
      "[array([0, 1, 2, 3], dtype=int64), array([4, 5, 6, 7], dtype=int64), array([8, 9], dtype=int64)]\n",
      "[array([0, 1, 2, 3], dtype=int64), array([4, 5, 6, 7], dtype=int64), array([8, 9], dtype=int64)]\n",
      "[array([0, 1, 2, 3], dtype=int64), array([4, 5, 6, 7], dtype=int64), array([8, 9], dtype=int64)]\n",
      "[array([0, 1, 2, 3], dtype=int64), array([4, 5, 6, 7], dtype=int64), array([8, 9], dtype=int64)]\n",
      "[array([0, 1, 2, 3], dtype=int64), array([4, 5, 6, 7], dtype=int64), array([8, 9], dtype=int64)]\n",
      "[array([0, 1, 2, 3], dtype=int64), array([4, 5, 6, 7], dtype=int64), array([8, 9], dtype=int64)]\n",
      "[array([0, 1, 2, 3], dtype=int64), array([4, 5, 6, 7], dtype=int64), array([8, 9], dtype=int64)]\n",
      "[array([0, 1, 2, 3], dtype=int64), array([4, 5, 6, 7], dtype=int64), array([8, 9], dtype=int64)]\n"
     ]
    }
   ],
   "source": [
    "# batchを使って、指定サイズのミニバッチに分割できる。\n",
    "# バッチサイズで割りきれずに余った部分は、余った数でバッチ化される。（オプションで切り捨てることも可能）\n",
    "ds = make_ds().batch(4)\n",
    "for i in range(LOOPS):\n",
    "    print_ds(ds)"
   ]
  },
  {
   "cell_type": "code",
   "execution_count": 11,
   "id": "charged-brook",
   "metadata": {},
   "outputs": [
    {
     "name": "stdout",
     "output_type": "stream",
     "text": [
      "[array([4, 5, 6, 7], dtype=int64), array([8, 9], dtype=int64), array([0, 1, 2, 3], dtype=int64)]\n",
      "[array([8, 9], dtype=int64), array([0, 1, 2, 3], dtype=int64), array([4, 5, 6, 7], dtype=int64)]\n",
      "[array([4, 5, 6, 7], dtype=int64), array([8, 9], dtype=int64), array([0, 1, 2, 3], dtype=int64)]\n",
      "[array([0, 1, 2, 3], dtype=int64), array([4, 5, 6, 7], dtype=int64), array([8, 9], dtype=int64)]\n",
      "[array([4, 5, 6, 7], dtype=int64), array([8, 9], dtype=int64), array([0, 1, 2, 3], dtype=int64)]\n",
      "[array([4, 5, 6, 7], dtype=int64), array([0, 1, 2, 3], dtype=int64), array([8, 9], dtype=int64)]\n",
      "[array([4, 5, 6, 7], dtype=int64), array([8, 9], dtype=int64), array([0, 1, 2, 3], dtype=int64)]\n",
      "[array([8, 9], dtype=int64), array([0, 1, 2, 3], dtype=int64), array([4, 5, 6, 7], dtype=int64)]\n",
      "[array([8, 9], dtype=int64), array([4, 5, 6, 7], dtype=int64), array([0, 1, 2, 3], dtype=int64)]\n",
      "[array([0, 1, 2, 3], dtype=int64), array([4, 5, 6, 7], dtype=int64), array([8, 9], dtype=int64)]\n",
      "[array([0, 1, 2, 3], dtype=int64), array([8, 9], dtype=int64), array([4, 5, 6, 7], dtype=int64)]\n",
      "[array([8, 9], dtype=int64), array([4, 5, 6, 7], dtype=int64), array([0, 1, 2, 3], dtype=int64)]\n"
     ]
    }
   ],
   "source": [
    "# batch -> shuffle の順序で適用すると、各バッチ単位の固まりでシャッフルされる。\n",
    "# バッチ内部の値はシャッフルされない。\n",
    "ds = make_ds().batch(4).shuffle(3)\n",
    "for i in range(LOOPS):\n",
    "    print_ds(ds)"
   ]
  },
  {
   "cell_type": "code",
   "execution_count": 12,
   "id": "sufficient-waste",
   "metadata": {},
   "outputs": [
    {
     "name": "stdout",
     "output_type": "stream",
     "text": [
      "[array([6, 7, 1, 2], dtype=int64), array([8, 0, 9, 3], dtype=int64), array([4, 5], dtype=int64)]\n",
      "[array([7, 0, 2, 3], dtype=int64), array([1, 9, 6, 8], dtype=int64), array([4, 5], dtype=int64)]\n",
      "[array([8, 0, 2, 4], dtype=int64), array([5, 1, 6, 7], dtype=int64), array([3, 9], dtype=int64)]\n",
      "[array([1, 5, 6, 0], dtype=int64), array([9, 8, 3, 7], dtype=int64), array([4, 2], dtype=int64)]\n",
      "[array([5, 1, 6, 3], dtype=int64), array([2, 0, 8, 4], dtype=int64), array([7, 9], dtype=int64)]\n",
      "[array([4, 9, 2, 3], dtype=int64), array([0, 6, 1, 7], dtype=int64), array([8, 5], dtype=int64)]\n",
      "[array([5, 3, 0, 8], dtype=int64), array([9, 1, 4, 6], dtype=int64), array([7, 2], dtype=int64)]\n",
      "[array([8, 2, 7, 3], dtype=int64), array([6, 5, 4, 0], dtype=int64), array([9, 1], dtype=int64)]\n",
      "[array([0, 5, 3, 9], dtype=int64), array([8, 1, 2, 4], dtype=int64), array([6, 7], dtype=int64)]\n",
      "[array([4, 8, 0, 5], dtype=int64), array([6, 7, 9, 2], dtype=int64), array([1, 3], dtype=int64)]\n",
      "[array([7, 8, 5, 2], dtype=int64), array([4, 9, 6, 3], dtype=int64), array([0, 1], dtype=int64)]\n",
      "[array([8, 6, 5, 9], dtype=int64), array([4, 2, 0, 3], dtype=int64), array([1, 7], dtype=int64)]\n"
     ]
    }
   ],
   "source": [
    "# shuffle -> batch だと、シャッフルしたデータに対してバッチ化するため、各バッチに含まれる値もシャッフルされる。\n",
    "ds = make_ds().shuffle(10).batch(4)\n",
    "for i in range(LOOPS):\n",
    "    print_ds(ds)"
   ]
  },
  {
   "cell_type": "code",
   "execution_count": 13,
   "id": "neutral-scotland",
   "metadata": {},
   "outputs": [
    {
     "name": "stdout",
     "output_type": "stream",
     "text": [
      "[array([2, 4, 6, 0], dtype=int64), array([9, 8, 7, 3], dtype=int64), array([1, 5], dtype=int64)]\n",
      "[array([2, 4, 6, 0], dtype=int64), array([9, 8, 7, 3], dtype=int64), array([1, 5], dtype=int64)]\n",
      "[array([2, 4, 6, 0], dtype=int64), array([9, 8, 7, 3], dtype=int64), array([1, 5], dtype=int64)]\n",
      "[array([2, 4, 6, 0], dtype=int64), array([9, 8, 7, 3], dtype=int64), array([1, 5], dtype=int64)]\n",
      "[array([2, 4, 6, 0], dtype=int64), array([9, 8, 7, 3], dtype=int64), array([1, 5], dtype=int64)]\n",
      "[array([2, 4, 6, 0], dtype=int64), array([9, 8, 7, 3], dtype=int64), array([1, 5], dtype=int64)]\n",
      "[array([2, 4, 6, 0], dtype=int64), array([9, 8, 7, 3], dtype=int64), array([1, 5], dtype=int64)]\n",
      "[array([2, 4, 6, 0], dtype=int64), array([9, 8, 7, 3], dtype=int64), array([1, 5], dtype=int64)]\n",
      "[array([2, 4, 6, 0], dtype=int64), array([9, 8, 7, 3], dtype=int64), array([1, 5], dtype=int64)]\n",
      "[array([2, 4, 6, 0], dtype=int64), array([9, 8, 7, 3], dtype=int64), array([1, 5], dtype=int64)]\n",
      "[array([2, 4, 6, 0], dtype=int64), array([9, 8, 7, 3], dtype=int64), array([1, 5], dtype=int64)]\n",
      "[array([2, 4, 6, 0], dtype=int64), array([9, 8, 7, 3], dtype=int64), array([1, 5], dtype=int64)]\n"
     ]
    }
   ],
   "source": [
    "# 参考までに、cacheの挙動は、shuffleと組み合わせたときと同じ動き。\n",
    "# きちんとシャッフルしたければ、cacheはshuffleより先に適用する。\n",
    "ds = make_ds().shuffle(10).batch(4).cache()\n",
    "for i in range(LOOPS):\n",
    "    print_ds(ds)"
   ]
  },
  {
   "cell_type": "markdown",
   "id": "downtown-cameroon",
   "metadata": {},
   "source": [
    "### shuffleとtake/skip"
   ]
  },
  {
   "cell_type": "code",
   "execution_count": 14,
   "id": "turned-metallic",
   "metadata": {},
   "outputs": [
    {
     "name": "stdout",
     "output_type": "stream",
     "text": [
      "[0, 1, 2, 3, 4, 5, 6][7, 8, 9]\n",
      "[0, 1, 2, 3, 4, 5, 6][7, 8, 9]\n",
      "[0, 1, 2, 3, 4, 5, 6][7, 8, 9]\n",
      "[0, 1, 2, 3, 4, 5, 6][7, 8, 9]\n",
      "[0, 1, 2, 3, 4, 5, 6][7, 8, 9]\n",
      "[0, 1, 2, 3, 4, 5, 6][7, 8, 9]\n",
      "[0, 1, 2, 3, 4, 5, 6][7, 8, 9]\n",
      "[0, 1, 2, 3, 4, 5, 6][7, 8, 9]\n",
      "[0, 1, 2, 3, 4, 5, 6][7, 8, 9]\n",
      "[0, 1, 2, 3, 4, 5, 6][7, 8, 9]\n",
      "[0, 1, 2, 3, 4, 5, 6][7, 8, 9]\n",
      "[0, 1, 2, 3, 4, 5, 6][7, 8, 9]\n"
     ]
    }
   ],
   "source": [
    "# take/skipでDatasetを任意の場所で区切って取り出せる。\n",
    "# takeは、Datasetの先頭から指定した要素数のデータを取り出す。\n",
    "# skipは、Datasetの先頭から指定した要素数をスキップし、その後のデータを取り出す。\n",
    "# つまり、skip(7)とすれば、8個目の要素以降全てを取り出せる。\n",
    "# このtake/skipを使って、Datasetをtrain/test用に簡単に分割できる。\n",
    "ds = make_ds()\n",
    "ds_x = ds.take(7)\n",
    "ds_y = ds.skip(7)\n",
    "for i in range(LOOPS):\n",
    "    print_ds(ds_x, ds_y)"
   ]
  },
  {
   "cell_type": "code",
   "execution_count": 15,
   "id": "illegal-officer",
   "metadata": {},
   "outputs": [
    {
     "name": "stdout",
     "output_type": "stream",
     "text": [
      "[0, 4, 6, 7, 3, 2, 8][4, 7, 9]\n",
      "[1, 2, 8, 7, 3, 6, 5][8, 7, 9]\n",
      "[0, 7, 2, 1, 4, 6, 9][8, 1, 7]\n",
      "[5, 4, 9, 7, 2, 6, 0][9, 3, 7]\n",
      "[5, 0, 3, 1, 8, 7, 9][0, 7, 4]\n",
      "[6, 3, 0, 2, 1, 5, 4][4, 9, 5]\n",
      "[6, 5, 7, 9, 2, 8, 0][9, 4, 7]\n",
      "[0, 5, 8, 7, 1, 4, 9][1, 6, 0]\n",
      "[9, 1, 4, 5, 3, 6, 7][1, 2, 5]\n",
      "[4, 6, 0, 7, 1, 3, 8][4, 8, 3]\n",
      "[4, 0, 8, 9, 5, 3, 1][4, 8, 9]\n",
      "[9, 8, 4, 3, 5, 1, 6][2, 4, 5]\n"
     ]
    }
   ],
   "source": [
    "# shuffleしたデータに対して、take/skipでデータ分割した場合、値を取り出す度に元データ自体がシャッフルされる。\n",
    "# take/skipで区分けした中でのシャッフル「ではない」ので注意。\n",
    "# 特に、take/skipでtrain/test用にデータを分割した場合、train/test用データが各エポックごとに混ざってしまうので注意が必要。\n",
    "ds = make_ds().shuffle(10)\n",
    "ds_x = ds.take(7)\n",
    "ds_y = ds.skip(7)\n",
    "for i in range(LOOPS):\n",
    "    print_ds(ds_x, ds_y)"
   ]
  },
  {
   "cell_type": "code",
   "execution_count": 16,
   "id": "sunset-nancy",
   "metadata": {},
   "outputs": [
    {
     "name": "stdout",
     "output_type": "stream",
     "text": [
      "[0, 8, 3, 9, 5, 2, 7][4, 1, 6]\n",
      "[0, 8, 3, 9, 5, 2, 7][4, 1, 6]\n",
      "[0, 8, 3, 9, 5, 2, 7][4, 1, 6]\n",
      "[0, 8, 3, 9, 5, 2, 7][4, 1, 6]\n",
      "[0, 8, 3, 9, 5, 2, 7][4, 1, 6]\n",
      "[0, 8, 3, 9, 5, 2, 7][4, 1, 6]\n",
      "[0, 8, 3, 9, 5, 2, 7][4, 1, 6]\n",
      "[0, 8, 3, 9, 5, 2, 7][4, 1, 6]\n",
      "[0, 8, 3, 9, 5, 2, 7][4, 1, 6]\n",
      "[0, 8, 3, 9, 5, 2, 7][4, 1, 6]\n",
      "[0, 8, 3, 9, 5, 2, 7][4, 1, 6]\n",
      "[0, 8, 3, 9, 5, 2, 7][4, 1, 6]\n"
     ]
    }
   ],
   "source": [
    "# shuffleしたデータを、take/skipで分割後に混ぜたくない場合、shuffleでreshuffle_each_iteration=Falseを指定すれば良い。\n",
    "# こうしておけば、2回目以降のデータ取り出しでも同じ並び順となるため、take/skipのデータが混ざることは無い。\n",
    "# ただし、take/skipで分割したそれぞれのデータブロック内でも、毎回同じ並び順になってしまう。\n",
    "ds = make_ds().shuffle(10, reshuffle_each_iteration=False)\n",
    "ds_x = ds.take(7)\n",
    "ds_y = ds.skip(7)\n",
    "for i in range(LOOPS):\n",
    "    print_ds(ds_x, ds_y)"
   ]
  },
  {
   "cell_type": "code",
   "execution_count": 17,
   "id": "abandoned-revelation",
   "metadata": {},
   "outputs": [
    {
     "name": "stdout",
     "output_type": "stream",
     "text": [
      "[5, 2, 7, 3, 0, 8, 4][1, 6, 9]\n",
      "[4, 8, 7, 5, 3, 0, 2][1, 6, 9]\n",
      "[8, 3, 5, 4, 0, 2, 7][1, 6, 9]\n",
      "[0, 3, 2, 7, 4, 8, 5][1, 6, 9]\n",
      "[4, 3, 2, 8, 5, 7, 0][1, 6, 9]\n",
      "[3, 0, 8, 2, 4, 7, 5][1, 6, 9]\n",
      "[3, 0, 4, 7, 5, 2, 8][1, 6, 9]\n",
      "[4, 5, 7, 8, 2, 0, 3][1, 6, 9]\n",
      "[3, 7, 5, 8, 0, 2, 4][1, 6, 9]\n",
      "[7, 0, 5, 8, 3, 2, 4][1, 6, 9]\n",
      "[8, 5, 2, 3, 0, 4, 7][1, 6, 9]\n",
      "[4, 0, 2, 8, 3, 7, 5][1, 6, 9]\n"
     ]
    }
   ],
   "source": [
    "# shuffleしたデータを、take/skipで分割後、takeで取得したデータだけを毎回シャッフルしたい場合、\n",
    "# takeで取得したデータに対して、再度shuffleを適用すればOK。\n",
    "ds = make_ds().shuffle(10, reshuffle_each_iteration=False)\n",
    "ds_x = ds.take(7).shuffle(7)  # takeで取得したデータ内でシャッフル\n",
    "ds_y = ds.skip(7)\n",
    "for i in range(LOOPS):\n",
    "    print_ds(ds_x, ds_y)"
   ]
  }
 ],
 "metadata": {
  "kernelspec": {
   "display_name": "Python 3",
   "language": "python",
   "name": "python3"
  },
  "language_info": {
   "codemirror_mode": {
    "name": "ipython",
    "version": 3
   },
   "file_extension": ".py",
   "mimetype": "text/x-python",
   "name": "python",
   "nbconvert_exporter": "python",
   "pygments_lexer": "ipython3",
   "version": "3.8.6"
  }
 },
 "nbformat": 4,
 "nbformat_minor": 5
}
